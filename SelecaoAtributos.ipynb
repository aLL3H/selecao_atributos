{
  "nbformat": 4,
  "nbformat_minor": 0,
  "metadata": {
    "colab": {
      "provenance": [],
      "authorship_tag": "ABX9TyOw7L/HqXZZSi2HuvXD/uXI",
      "include_colab_link": true
    },
    "kernelspec": {
      "name": "python3",
      "display_name": "Python 3"
    },
    "language_info": {
      "name": "python"
    }
  },
  "cells": [
    {
      "cell_type": "markdown",
      "metadata": {
        "id": "view-in-github",
        "colab_type": "text"
      },
      "source": [
        "<a href=\"https://colab.research.google.com/github/aLL3H/selecao_atributos/blob/main/SelecaoAtributos.ipynb\" target=\"_parent\"><img src=\"https://colab.research.google.com/assets/colab-badge.svg\" alt=\"Open In Colab\"/></a>"
      ]
    },
    {
      "cell_type": "code",
      "execution_count": null,
      "metadata": {
        "id": "SRqgrlk7mUNj"
      },
      "outputs": [],
      "source": [
        "import pandas as pd\n",
        "from sklearn.model_selection import train_test_split\n",
        "from sklearn.naive_bayes import GaussianNB\n",
        "from sklearn.metrics import accuracy_score\n",
        "from sklearn.feature_selection import chi2, SelectKBest"
      ]
    },
    {
      "cell_type": "code",
      "source": [
        "anuncio = pd.read_csv('ad.data', header = None)\n",
        "anuncio.shape"
      ],
      "metadata": {
        "colab": {
          "base_uri": "https://localhost:8080/"
        },
        "id": "bdt-hD9-oQyc",
        "outputId": "6cd4de71-d853-4164-9e77-37835aa826f7"
      },
      "execution_count": null,
      "outputs": [
        {
          "output_type": "execute_result",
          "data": {
            "text/plain": [
              "(3279, 1559)"
            ]
          },
          "metadata": {},
          "execution_count": 3
        }
      ]
    },
    {
      "cell_type": "code",
      "source": [
        "X = anuncio.iloc[:, :-1].values\n",
        "y = anuncio.iloc[:, -1].values"
      ],
      "metadata": {
        "id": "f-9AiMSYodXP"
      },
      "execution_count": null,
      "outputs": []
    },
    {
      "cell_type": "code",
      "source": [
        "X"
      ],
      "metadata": {
        "colab": {
          "base_uri": "https://localhost:8080/"
        },
        "id": "Zaz4zyO1otFD",
        "outputId": "b087cae4-1754-4aee-e6b9-62122f8ec494"
      },
      "execution_count": null,
      "outputs": [
        {
          "output_type": "execute_result",
          "data": {
            "text/plain": [
              "array([[125.    , 125.    ,   1.    , ...,   0.    ,   0.    ,   0.    ],\n",
              "       [ 57.    , 468.    ,   8.2105, ...,   0.    ,   0.    ,   0.    ],\n",
              "       [ 33.    , 230.    ,   6.9696, ...,   0.    ,   0.    ,   0.    ],\n",
              "       ...,\n",
              "       [ 23.    , 120.    ,   5.2173, ...,   0.    ,   0.    ,   0.    ],\n",
              "       [  0.    ,   0.    ,   0.    , ...,   0.    ,   0.    ,   0.    ],\n",
              "       [ 40.    ,  40.    ,   1.    , ...,   0.    ,   0.    ,   0.    ]])"
            ]
          },
          "metadata": {},
          "execution_count": 5
        }
      ]
    },
    {
      "cell_type": "code",
      "source": [
        "y"
      ],
      "metadata": {
        "colab": {
          "base_uri": "https://localhost:8080/"
        },
        "id": "AjWQcz9poysb",
        "outputId": "32480511-7625-4e83-d5ad-4ed3a1135849"
      },
      "execution_count": null,
      "outputs": [
        {
          "output_type": "execute_result",
          "data": {
            "text/plain": [
              "array(['ad.', 'ad.', 'ad.', ..., 'nonad.', 'nonad.', 'nonad.'],\n",
              "      dtype=object)"
            ]
          },
          "metadata": {},
          "execution_count": 6
        }
      ]
    },
    {
      "cell_type": "code",
      "source": [
        "X_treinamento, X_teste, y_treinamento, y_teste = train_test_split(X, y, test_size = 0.3, random_state = 0)"
      ],
      "metadata": {
        "id": "dgW1KoBrozLO"
      },
      "execution_count": null,
      "outputs": []
    },
    {
      "cell_type": "code",
      "source": [
        "modelo1 = GaussianNB()\n",
        "modelo1.fit(X_treinamento, y_treinamento)\n",
        "previsoes1 = modelo1.predict(X_teste)\n",
        "print(accuracy_score(y_teste, previsoes1))"
      ],
      "metadata": {
        "colab": {
          "base_uri": "https://localhost:8080/"
        },
        "id": "c6h7-lPfo_44",
        "outputId": "e843cb96-9fe9-4850-c6e2-e87312edf6ea"
      },
      "execution_count": null,
      "outputs": [
        {
          "output_type": "stream",
          "name": "stdout",
          "text": [
            "0.7764227642276422\n"
          ]
        }
      ]
    },
    {
      "cell_type": "code",
      "source": [
        "selecao = SelectKBest(chi2, k=7)\n",
        "X_novo = selecao.fit_transform(X, y)"
      ],
      "metadata": {
        "id": "LTGphdyRpKkH"
      },
      "execution_count": null,
      "outputs": []
    },
    {
      "cell_type": "code",
      "source": [
        "X_novo"
      ],
      "metadata": {
        "colab": {
          "base_uri": "https://localhost:8080/"
        },
        "id": "V8X2vwjBppq5",
        "outputId": "d99933dc-99d6-413f-abde-4ee5ff6656a1"
      },
      "execution_count": null,
      "outputs": [
        {
          "output_type": "execute_result",
          "data": {
            "text/plain": [
              "array([[125.    , 125.    ,   1.    , ...,   1.    ,   0.    ,   1.    ],\n",
              "       [ 57.    , 468.    ,   8.2105, ...,   1.    ,   0.    ,   0.    ],\n",
              "       [ 33.    , 230.    ,   6.9696, ...,   0.    ,   0.    ,   0.    ],\n",
              "       ...,\n",
              "       [ 23.    , 120.    ,   5.2173, ...,   0.    ,   0.    ,   0.    ],\n",
              "       [  0.    ,   0.    ,   0.    , ...,   0.    ,   0.    ,   0.    ],\n",
              "       [ 40.    ,  40.    ,   1.    , ...,   0.    ,   0.    ,   0.    ]])"
            ]
          },
          "metadata": {},
          "execution_count": 10
        }
      ]
    },
    {
      "cell_type": "code",
      "source": [
        "X_novo.shape"
      ],
      "metadata": {
        "colab": {
          "base_uri": "https://localhost:8080/"
        },
        "id": "-v-fQSBBpqtn",
        "outputId": "1ef56aa6-8fd4-4b68-9aa5-53a0d9be518c"
      },
      "execution_count": null,
      "outputs": [
        {
          "output_type": "execute_result",
          "data": {
            "text/plain": [
              "(3279, 7)"
            ]
          },
          "metadata": {},
          "execution_count": 11
        }
      ]
    },
    {
      "cell_type": "code",
      "source": [
        "print(selecao.get_support())"
      ],
      "metadata": {
        "colab": {
          "base_uri": "https://localhost:8080/"
        },
        "id": "foaQdzCoptWe",
        "outputId": "022b8da7-0314-47be-e9b2-792c7b3bf430"
      },
      "execution_count": null,
      "outputs": [
        {
          "output_type": "stream",
          "name": "stdout",
          "text": [
            "[ True  True  True ... False False False]\n"
          ]
        }
      ]
    },
    {
      "cell_type": "code",
      "source": [
        "X_treinamento, X_teste, y_treinamento, y_teste = train_test_split(X_novo, y, test_size = 0.3, random_state = 0)"
      ],
      "metadata": {
        "id": "MdnKbeNVpzfv"
      },
      "execution_count": null,
      "outputs": []
    },
    {
      "cell_type": "code",
      "source": [
        "modelo2 = GaussianNB()\n",
        "modelo2.fit(X_treinamento, y_treinamento)\n",
        "previsoes2 = modelo2.predict(X_teste)\n",
        "print(accuracy_score(y_teste, previsoes2))"
      ],
      "metadata": {
        "colab": {
          "base_uri": "https://localhost:8080/"
        },
        "id": "PIffS2wxp87k",
        "outputId": "c1bb0ee8-6e07-47f9-f346-90ffc6698551"
      },
      "execution_count": null,
      "outputs": [
        {
          "output_type": "stream",
          "name": "stdout",
          "text": [
            "0.9451219512195121\n"
          ]
        }
      ]
    },
    {
      "cell_type": "code",
      "source": [],
      "metadata": {
        "id": "kowmJfgnqHeZ"
      },
      "execution_count": null,
      "outputs": []
    }
  ]
}